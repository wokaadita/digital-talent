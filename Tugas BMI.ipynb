{
 "cells": [
  {
   "cell_type": "code",
   "execution_count": 9,
   "metadata": {},
   "outputs": [],
   "source": [
    "#Kode Untuk Menghitung Body Mass Index (BMI)\n",
    "\n",
    "def Kategori_BMI(weight,height):\n",
    "    if type(weight)==int or type(weight)==float and type(height)== int or type(height)==float:\n",
    "        BMI= weight/((height/100)**2)\n",
    "        if BMI<15:\n",
    "            print(\"BMI=\",BMI,\",\", \"Category= Very severely underweight\")\n",
    "        elif 15<BMI<16:\n",
    "            print(\"BMI=\",BMI,\",\", \"Category= Severely underweight\")\n",
    "        elif 16<BMI<18.5:\n",
    "            print(\"BMI=\",BMI,\",\", \"Category= Underweight\")\n",
    "        elif 18.5<BMI<25:\n",
    "            print(\"BMI=\",BMI,\",\", \"Category= Normal(healthy weight)\")\n",
    "        elif 25<BMI<30:\n",
    "            print(\"BMI=\",BMI,\",\", \"Category= Overweight\")\n",
    "        elif 30<BMI<35:\n",
    "            print(\"BMI=\",BMI,\",\", \"Category= Severely obese\")\n",
    "        elif BMI>40:\n",
    "            print(\"BMI=\",BMI,\",\", \"Category= Very Severely obese\")\n",
    "    else :\n",
    "        print(\"Error, Your Input Must Be in Number\")"
   ]
  },
  {
   "cell_type": "code",
   "execution_count": null,
   "metadata": {},
   "outputs": [],
   "source": []
  },
  {
   "cell_type": "code",
   "execution_count": null,
   "metadata": {},
   "outputs": [],
   "source": [
    "\n"
   ]
  },
  {
   "cell_type": "code",
   "execution_count": null,
   "metadata": {},
   "outputs": [],
   "source": []
  },
  {
   "cell_type": "code",
   "execution_count": null,
   "metadata": {},
   "outputs": [],
   "source": []
  },
  {
   "cell_type": "code",
   "execution_count": null,
   "metadata": {},
   "outputs": [],
   "source": []
  }
 ],
 "metadata": {
  "kernelspec": {
   "display_name": "Python 3",
   "language": "python",
   "name": "python3"
  },
  "language_info": {
   "codemirror_mode": {
    "name": "ipython",
    "version": 3
   },
   "file_extension": ".py",
   "mimetype": "text/x-python",
   "name": "python",
   "nbconvert_exporter": "python",
   "pygments_lexer": "ipython3",
   "version": "3.6.5"
  }
 },
 "nbformat": 4,
 "nbformat_minor": 2
}
