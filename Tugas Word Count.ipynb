{
 "cells": [
  {
   "cell_type": "code",
   "execution_count": 3,
   "metadata": {},
   "outputs": [
    {
     "name": "stdout",
     "output_type": "stream",
     "text": [
      "Barcelona berhasil merebut posisi puncak klasemen La Liga Spanyol seusai menang 4-2 atas Sevilla pada pertandingan pekan kesembilan di Stadion Camp Nou, Sabtu (20/10/2018) atau Minggu dini hari WIB. Barcelona membuka keunggulan pada menit ke-2 melalui gol yang dicetak oleh Philippe Coutinho. Lionel Messi menggandakan keunggulan Barcelona, 10 menit berselang.  Namun, nahas bagi Barcelona, karena Messi harus ditarik keluar pada menit ke-26 setelah mengalami cedera. Tanpa Messi, skor 2-0 bertahan hingga babak pertama berakhir.\n"
     ]
    }
   ],
   "source": [
    "paragraf = \"Barcelona berhasil merebut posisi puncak klasemen La Liga Spanyol seusai menang 4-2 atas Sevilla pada pertandingan pekan kesembilan di Stadion Camp Nou, Sabtu (20/10/2018) atau Minggu dini hari WIB. Barcelona membuka keunggulan pada menit ke-2 melalui gol yang dicetak oleh Philippe Coutinho. Lionel Messi menggandakan keunggulan Barcelona, 10 menit berselang.  Namun, nahas bagi Barcelona, karena Messi harus ditarik keluar pada menit ke-26 setelah mengalami cedera. Tanpa Messi, skor 2-0 bertahan hingga babak pertama berakhir.\"\n",
    "print(paragraf)"
   ]
  },
  {
   "cell_type": "code",
   "execution_count": 6,
   "metadata": {},
   "outputs": [
    {
     "name": "stdout",
     "output_type": "stream",
     "text": [
      "{'barcelona': 2, 'berhasil': 1, 'merebut': 1, 'posisi': 1, 'puncak': 1, 'klasemen': 1, 'la': 1, 'liga': 1, 'spanyol': 1, 'seusai': 1, 'menang': 1, '4-2': 1, 'atas': 1, 'sevilla': 1, 'pada': 3, 'pertandingan': 1, 'pekan': 1, 'kesembilan': 1, 'di': 1, 'stadion': 1, 'camp': 1, 'nou,': 1, 'sabtu': 1, '(20/10/2018)': 1, 'atau': 1, 'minggu': 1, 'dini': 1, 'hari': 1, 'wib.': 1, 'membuka': 1, 'keunggulan': 2, 'menit': 3, 'ke-2': 1, 'melalui': 1, 'gol': 1, 'yang': 1, 'dicetak': 1, 'oleh': 1, 'philippe': 1, 'coutinho.': 1, 'lionel': 1, 'messi': 2, 'menggandakan': 1, 'barcelona,': 2, '10': 1, 'berselang.': 1, 'namun,': 1, 'nahas': 1, 'bagi': 1, 'karena': 1, 'harus': 1, 'ditarik': 1, 'keluar': 1, 'ke-26': 1, 'setelah': 1, 'mengalami': 1, 'cedera.': 1, 'tanpa': 1, 'messi,': 1, 'skor': 1, '2-0': 1, 'bertahan': 1, 'hingga': 1, 'babak': 1, 'pertama': 1, 'berakhir.': 1}\n"
     ]
    }
   ],
   "source": [
    "my_string = paragraf.lower().split()\n",
    "my_dict = {}\n",
    "for item in my_string:\n",
    "    if item in my_dict:\n",
    "        my_dict[item]= my_dict[item]+1\n",
    "    else:\n",
    "        my_dict[item] = 1\n",
    "print(my_dict)"
   ]
  },
  {
   "cell_type": "code",
   "execution_count": null,
   "metadata": {},
   "outputs": [],
   "source": [
    "\n"
   ]
  },
  {
   "cell_type": "code",
   "execution_count": null,
   "metadata": {},
   "outputs": [],
   "source": []
  },
  {
   "cell_type": "code",
   "execution_count": null,
   "metadata": {},
   "outputs": [],
   "source": []
  }
 ],
 "metadata": {
  "kernelspec": {
   "display_name": "Python 3",
   "language": "python",
   "name": "python3"
  },
  "language_info": {
   "codemirror_mode": {
    "name": "ipython",
    "version": 3
   },
   "file_extension": ".py",
   "mimetype": "text/x-python",
   "name": "python",
   "nbconvert_exporter": "python",
   "pygments_lexer": "ipython3",
   "version": "3.6.5"
  }
 },
 "nbformat": 4,
 "nbformat_minor": 2
}
