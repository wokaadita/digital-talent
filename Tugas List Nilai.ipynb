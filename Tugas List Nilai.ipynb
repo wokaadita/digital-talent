{
 "cells": [
  {
   "cell_type": "code",
   "execution_count": 4,
   "metadata": {},
   "outputs": [
    {
     "name": "stdout",
     "output_type": "stream",
     "text": [
      "[87, 78, 45, 13, 68, 14, 24, 49, 17, 10, 82, 61, 69, 23, 36, 8, 25, 31, 78, 66, 85, 63, 12, 18, 19, 20, 67, 58, 97, 9, 96, 87, 1, 54, 20, 1, 3, 66, 25, 19, 58, 68, 88, 53, 7, 20, 73, 16, 32, 24, 55, 69, 99, 11, 4, 76, 57, 29, 96, 75, 35, 48, 99, 97, 47, 11, 9, 48, 98, 16, 24, 35, 91, 63, 54, 32, 89, 7, 44, 32, 81, 17, 44, 59, 29, 55, 4, 94, 7, 90, 4, 19, 62, 61, 36, 39, 53, 16, 59, 51, 54, 11, 34, 51, 64, 32, 50, 41, 21, 4, 86, 62, 97, 45, 32, 77, 9, 45, 39, 65, 19, 55, 38, 62, 69, 59, 90, 93, 57, 52, 77, 63, 44, 93, 13, 3, 98, 46, 18, 14, 75, 87, 93, 82, 82, 8, 42, 95, 71, 23, 52, 79, 64, 75, 11, 80, 27, 59, 67, 83, 73, 96, 12, 47, 16, 9, 23, 53, 69, 92, 74, 43, 22, 92, 89, 27, 27, 45, 14, 38, 96, 25, 43, 46, 7, 81, 25, 3, 33, 84, 64, 64, 78, 87, 64, 51, 35, 53, 99, 60, 9, 83, 32, 85, 54, 70, 72, 84, 90, 34, 75, 91, 35, 25, 75, 1, 46, 23, 89, 61, 83, 95, 18, 27, 11, 80, 39, 36, 31, 55, 50, 13, 35, 58, 51, 5, 36, 75, 12, 15, 61, 31, 48, 98, 67, 64, 71, 26, 47, 85]\n"
     ]
    }
   ],
   "source": [
    "import random\n",
    "\n",
    "# GENERATE RANDOM\n",
    "nilaiTugas = []\n",
    "for i in range(250):\n",
    "    nilaiTugas.append(random.randrange(1,100,1))\n",
    "\n",
    "print(nilaiTugas)"
   ]
  },
  {
   "cell_type": "code",
   "execution_count": 5,
   "metadata": {},
   "outputs": [
    {
     "name": "stdout",
     "output_type": "stream",
     "text": [
      "[87, 45, 13, 49, 17, 61, 69, 23, 25, 31, 85, 63, 19, 67, 97, 9, 87, 1, 1, 3, 25, 19, 53, 7, 73, 55, 69, 99, 11, 57, 29, 75, 35, 99, 97, 47, 11, 9, 35, 91, 63, 89, 7, 81, 17, 59, 29, 55, 7, 19, 61, 39, 53, 59, 51, 11, 51, 41, 21, 97, 45, 77, 9, 45, 39, 65, 19, 55, 69, 59, 93, 57, 77, 63, 93, 13, 3, 75, 87, 93, 95, 71, 23, 79, 75, 11, 27, 59, 67, 83, 73, 47, 9, 23, 53, 69, 43, 89, 27, 27, 45, 25, 43, 7, 81, 25, 3, 33, 87, 51, 35, 53, 99, 9, 83, 85, 75, 91, 35, 25, 75, 1, 23, 89, 61, 83, 95, 27, 11, 39, 31, 55, 13, 35, 51, 5, 75, 15, 61, 31, 67, 71, 47, 85]\n"
     ]
    }
   ],
   "source": [
    "#Ganjil\n",
    "ganjil=[]\n",
    "for n in nilaiTugas:\n",
    "    if n%2 !=0:\n",
    "        ganjil.append(n)\n",
    "        \n",
    "print (ganjil)\n",
    "        \n",
    "    "
   ]
  },
  {
   "cell_type": "code",
   "execution_count": 6,
   "metadata": {},
   "outputs": [
    {
     "name": "stdout",
     "output_type": "stream",
     "text": [
      "[87, 78, 82, 78, 85, 97, 96, 87, 88, 73, 99, 76, 96, 75, 99, 97, 98, 91, 89, 81, 94, 90, 86, 97, 77, 90, 93, 77, 93, 98, 75, 87, 93, 82, 82, 95, 71, 79, 75, 80, 83, 73, 96, 92, 74, 92, 89, 96, 81, 84, 78, 87, 99, 83, 85, 72, 84, 90, 75, 91, 75, 89, 83, 95, 80, 75, 98, 71, 85]\n"
     ]
    }
   ],
   "source": [
    "#nilai>70\n",
    "\n",
    "lebihdari70=[]\n",
    "for n in nilaiTugas:\n",
    "    if n>70:\n",
    "        lebihdari70.append(n)\n",
    "print(lebihdari70)"
   ]
  },
  {
   "cell_type": "code",
   "execution_count": 13,
   "metadata": {},
   "outputs": [
    {
     "name": "stdout",
     "output_type": "stream",
     "text": [
      "28.619515907210094\n"
     ]
    }
   ],
   "source": [
    "#standard deviasi\n",
    "\n",
    "#temukan rata-rata\n",
    "total = 0\n",
    "for n in nilaiTugas:\n",
    "    total = total + n\n",
    "rata = total / len(nilaiTugas)\n",
    "\n",
    "#Temukan std_deviasi\n",
    "totalselisih=0\n",
    "for n in nilaiTugas:\n",
    "    x=n-rata\n",
    "    pangkat=x**2\n",
    "    totalselisih=totalselisih+pangkat\n",
    "std_deviasi=(totalselisih/(len(nilaiTugas)-1))**(0.5)\n",
    "\n",
    "print(std_deviasi)\n",
    "    \n"
   ]
  },
  {
   "cell_type": "code",
   "execution_count": 29,
   "metadata": {},
   "outputs": [
    {
     "name": "stdout",
     "output_type": "stream",
     "text": [
      "99\n"
     ]
    }
   ],
   "source": [
    "#maksimum\n",
    "terbesar=0\n",
    "for n in nilaiTugas:\n",
    "    if n>terbesar:\n",
    "        terbesar=n\n",
    "print(terbesar)"
   ]
  },
  {
   "cell_type": "code",
   "execution_count": 11,
   "metadata": {},
   "outputs": [
    {
     "name": "stdout",
     "output_type": "stream",
     "text": [
      "1\n"
     ]
    }
   ],
   "source": [
    "#minimum\n",
    "for n in nilaiTugas:\n",
    "    if n<terbesar:\n",
    "        terbesar=n\n",
    "print(terbesar)"
   ]
  },
  {
   "cell_type": "code",
   "execution_count": 92,
   "metadata": {},
   "outputs": [
    {
     "name": "stdout",
     "output_type": "stream",
     "text": [
      "32\n",
      "75\n",
      "64\n"
     ]
    }
   ],
   "source": [
    "#modus\n",
    "maksimal=0\n",
    "modus={}\n",
    "for i in nilaiTugas:\n",
    "    count= nilaiTugas.count(i)\n",
    "    modus.update({i:count})\n",
    "\n",
    "for key in modus:\n",
    "    if modus[key]>maksimal:\n",
    "        maksimal=modus[key]\n",
    "\n",
    "for key in modus:\n",
    "    if modus[key]==maksimal:\n",
    "        print(key)"
   ]
  },
  {
   "cell_type": "code",
   "execution_count": null,
   "metadata": {},
   "outputs": [],
   "source": []
  },
  {
   "cell_type": "code",
   "execution_count": null,
   "metadata": {},
   "outputs": [],
   "source": []
  },
  {
   "cell_type": "code",
   "execution_count": null,
   "metadata": {},
   "outputs": [],
   "source": []
  }
 ],
 "metadata": {
  "kernelspec": {
   "display_name": "Python 3",
   "language": "python",
   "name": "python3"
  },
  "language_info": {
   "codemirror_mode": {
    "name": "ipython",
    "version": 3
   },
   "file_extension": ".py",
   "mimetype": "text/x-python",
   "name": "python",
   "nbconvert_exporter": "python",
   "pygments_lexer": "ipython3",
   "version": "3.6.5"
  }
 },
 "nbformat": 4,
 "nbformat_minor": 2
}
