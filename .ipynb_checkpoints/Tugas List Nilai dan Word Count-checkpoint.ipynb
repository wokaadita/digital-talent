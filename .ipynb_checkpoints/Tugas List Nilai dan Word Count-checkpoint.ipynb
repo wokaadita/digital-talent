{
 "cells": [
  {
   "cell_type": "code",
   "execution_count": 2,
   "metadata": {},
   "outputs": [
    {
     "name": "stdout",
     "output_type": "stream",
     "text": [
      "[64, 42, 80, 15, 50, 25, 50, 33, 43, 3, 56, 4, 51, 28, 10, 62, 53, 38, 65, 51, 73, 24, 30, 85, 70, 85, 41, 20, 38, 98, 26, 35, 25, 71, 30, 71, 29, 37, 4, 71, 3, 97, 96, 35, 28, 2, 85, 85, 21, 14, 57, 24, 88, 43, 29, 75, 58, 39, 70, 1, 29, 78, 63, 16, 10, 89, 38, 33, 19, 16, 29, 32, 78, 80, 40, 63, 38, 78, 48, 54, 16, 40, 39, 81, 52, 56, 32, 25, 80, 92, 88, 93, 3, 16, 36, 76, 29, 71, 90, 52, 10, 99, 32, 72, 59, 18, 67, 54, 56, 50, 88, 12, 53, 99, 71, 75, 29, 9, 51, 66, 84, 66, 57, 29, 81, 42, 96, 25, 9, 91, 2, 27, 12, 32, 46, 13, 9, 80, 68, 3, 24, 19, 12, 50, 2, 4, 55, 8, 55, 1, 62, 99, 81, 12, 77, 67, 39, 3, 29, 90, 12, 27, 22, 6, 85, 35, 22, 37, 40, 66, 99, 83, 87, 64, 70, 32, 12, 85, 67, 51, 69, 97, 90, 80, 68, 79, 40, 93, 76, 97, 20, 89, 77, 85, 42, 47, 43, 82, 31, 80, 63, 39, 45, 83, 89, 63, 34, 78, 54, 71, 12, 91, 79, 96, 91, 96, 82, 10, 96, 22, 2, 40, 60, 30, 19, 16, 7, 2, 63, 64, 87, 78, 93, 99, 6, 69, 22, 45, 86, 89, 19, 51, 4, 26, 92, 44, 59, 98, 90, 86]\n"
     ]
    }
   ],
   "source": [
    "#Tugas List Nilai\n",
    "\n",
    "import random\n",
    "\n",
    "# GENERATE RANDOM\n",
    "nilaiTugas = []\n",
    "for i in range(250):\n",
    "    nilaiTugas.append(random.randrange(1,100,1))\n",
    "\n",
    "print(nilaiTugas)"
   ]
  },
  {
   "cell_type": "code",
   "execution_count": 3,
   "metadata": {},
   "outputs": [
    {
     "name": "stdout",
     "output_type": "stream",
     "text": [
      "Nilai ganjil adalah= [15, 25, 33, 43, 3, 51, 53, 65, 51, 73, 85, 85, 41, 35, 25, 71, 71, 29, 37, 71, 3, 97, 35, 85, 85, 21, 57, 43, 29, 75, 39, 1, 29, 63, 89, 33, 19, 29, 63, 39, 81, 25, 93, 3, 29, 71, 99, 59, 67, 53, 99, 71, 75, 29, 9, 51, 57, 29, 81, 25, 9, 91, 27, 13, 9, 3, 19, 55, 55, 1, 99, 81, 77, 67, 39, 3, 29, 27, 85, 35, 37, 99, 83, 87, 85, 67, 51, 69, 97, 79, 93, 97, 89, 77, 85, 47, 43, 31, 63, 39, 45, 83, 89, 63, 71, 91, 79, 91, 19, 7, 63, 87, 93, 99, 69, 45, 89, 19, 51, 59]\n"
     ]
    }
   ],
   "source": [
    "#Ganjil\n",
    "ganjil=[]\n",
    "for n in nilaiTugas:\n",
    "    if n%2 !=0:\n",
    "        ganjil.append(n)\n",
    "        \n",
    "print (\"Nilai ganjil adalah=\",ganjil)\n",
    "        \n",
    "    "
   ]
  },
  {
   "cell_type": "code",
   "execution_count": 4,
   "metadata": {},
   "outputs": [
    {
     "name": "stdout",
     "output_type": "stream",
     "text": [
      "Nilai Lebih Dari 70 adalah= [80, 73, 85, 85, 98, 71, 71, 71, 97, 96, 85, 85, 88, 75, 78, 89, 78, 80, 78, 81, 80, 92, 88, 93, 76, 71, 90, 99, 72, 88, 99, 71, 75, 84, 81, 96, 91, 80, 99, 81, 77, 90, 85, 99, 83, 87, 85, 97, 90, 80, 79, 93, 76, 97, 89, 77, 85, 82, 80, 83, 89, 78, 71, 91, 79, 96, 91, 96, 82, 96, 87, 78, 93, 99, 86, 89, 92, 98, 90, 86]\n"
     ]
    }
   ],
   "source": [
    "#nilai>70\n",
    "\n",
    "lebihdari70=[]\n",
    "for n in nilaiTugas:\n",
    "    if n>70:\n",
    "        lebihdari70.append(n)\n",
    "print(\"Nilai Lebih Dari 70 adalah=\",lebihdari70)"
   ]
  },
  {
   "cell_type": "code",
   "execution_count": 5,
   "metadata": {},
   "outputs": [
    {
     "name": "stdout",
     "output_type": "stream",
     "text": [
      "Standard Deviasi= 29.45587837910011\n"
     ]
    }
   ],
   "source": [
    "#standard deviasi\n",
    "\n",
    "#temukan rata-rata\n",
    "total = 0\n",
    "for n in nilaiTugas:\n",
    "    total = total + n\n",
    "rata = total / len(nilaiTugas)\n",
    "\n",
    "#Temukan std_deviasi\n",
    "totalselisih=0\n",
    "for n in nilaiTugas:\n",
    "    x=n-rata\n",
    "    pangkat=x**2\n",
    "    totalselisih=totalselisih+pangkat\n",
    "std_deviasi=(totalselisih/(len(nilaiTugas)-1))**(0.5)\n",
    "\n",
    "print(\"Standard Deviasi=\",std_deviasi)\n",
    "    \n"
   ]
  },
  {
   "cell_type": "code",
   "execution_count": 6,
   "metadata": {},
   "outputs": [
    {
     "name": "stdout",
     "output_type": "stream",
     "text": [
      "Nilai Maksimum= 99\n"
     ]
    }
   ],
   "source": [
    "#maksimum\n",
    "terbesar=0\n",
    "for n in nilaiTugas:\n",
    "    if n>terbesar:\n",
    "        terbesar=n\n",
    "print(\"Nilai Maksimum=\",terbesar)"
   ]
  },
  {
   "cell_type": "code",
   "execution_count": 7,
   "metadata": {},
   "outputs": [
    {
     "name": "stdout",
     "output_type": "stream",
     "text": [
      "Nilai minimum = 1\n"
     ]
    }
   ],
   "source": [
    "#minimum\n",
    "for n in nilaiTugas:\n",
    "    if n<terbesar:\n",
    "        terbesar=n\n",
    "print(\"Nilai minimum =\",terbesar)"
   ]
  },
  {
   "cell_type": "code",
   "execution_count": 8,
   "metadata": {},
   "outputs": [
    {
     "name": "stdout",
     "output_type": "stream",
     "text": [
      "Nilai Modus adalah= 29\n"
     ]
    }
   ],
   "source": [
    "#modus\n",
    "maksimal=0\n",
    "modus={}\n",
    "for i in nilaiTugas:\n",
    "    count= nilaiTugas.count(i)\n",
    "    modus.update({i:count})\n",
    "\n",
    "for key in modus:\n",
    "    if modus[key]>maksimal:\n",
    "        maksimal=modus[key]\n",
    "\n",
    "for key in modus:\n",
    "    if modus[key]==maksimal:\n",
    "        print(\"Nilai Modus adalah=\",key)"
   ]
  },
  {
   "cell_type": "code",
   "execution_count": null,
   "metadata": {},
   "outputs": [],
   "source": [
    "#---------------------------------------------------"
   ]
  },
  {
   "cell_type": "code",
   "execution_count": null,
   "metadata": {},
   "outputs": [],
   "source": [
    "#-----------------------------------------------------"
   ]
  },
  {
   "cell_type": "code",
   "execution_count": 1,
   "metadata": {},
   "outputs": [
    {
     "name": "stdout",
     "output_type": "stream",
     "text": [
      "{'barcelona': 2, 'berhasil': 1, 'merebut': 1, 'posisi': 1, 'puncak': 1, 'klasemen': 1, 'la': 1, 'liga': 1, 'spanyol': 1, 'seusai': 1, 'menang': 1, '4-2': 1, 'atas': 1, 'sevilla': 1, 'pada': 3, 'pertandingan': 1, 'pekan': 1, 'kesembilan': 1, 'di': 1, 'stadion': 1, 'camp': 1, 'nou,': 1, 'sabtu': 1, '(20/10/2018)': 1, 'atau': 1, 'minggu': 1, 'dini': 1, 'hari': 1, 'wib.': 1, 'membuka': 1, 'keunggulan': 2, 'menit': 3, 'ke-2': 1, 'melalui': 1, 'gol': 1, 'yang': 1, 'dicetak': 1, 'oleh': 1, 'philippe': 1, 'coutinho.': 1, 'lionel': 1, 'messi': 2, 'menggandakan': 1, 'barcelona,': 2, '10': 1, 'berselang.': 1, 'namun,': 1, 'nahas': 1, 'bagi': 1, 'karena': 1, 'harus': 1, 'ditarik': 1, 'keluar': 1, 'ke-26': 1, 'setelah': 1, 'mengalami': 1, 'cedera.': 1, 'tanpa': 1, 'messi,': 1, 'skor': 1, '2-0': 1, 'bertahan': 1, 'hingga': 1, 'babak': 1, 'pertama': 1, 'berakhir.': 1}\n"
     ]
    }
   ],
   "source": [
    "#Tugas Word Count\n",
    "\n",
    "paragraf = \"Barcelona berhasil merebut posisi puncak klasemen La Liga Spanyol seusai menang 4-2 atas Sevilla pada pertandingan pekan kesembilan di Stadion Camp Nou, Sabtu (20/10/2018) atau Minggu dini hari WIB. Barcelona membuka keunggulan pada menit ke-2 melalui gol yang dicetak oleh Philippe Coutinho. Lionel Messi menggandakan keunggulan Barcelona, 10 menit berselang.  Namun, nahas bagi Barcelona, karena Messi harus ditarik keluar pada menit ke-26 setelah mengalami cedera. Tanpa Messi, skor 2-0 bertahan hingga babak pertama berakhir.\"\n",
    "\n",
    "my_string = paragraf.lower().split()\n",
    "my_dict = {}\n",
    "for item in my_string:\n",
    "    if item in my_dict:\n",
    "        my_dict[item]= my_dict[item]+1\n",
    "    else:\n",
    "        my_dict[item] = 1\n",
    "print(my_dict)"
   ]
  },
  {
   "cell_type": "code",
   "execution_count": null,
   "metadata": {},
   "outputs": [],
   "source": []
  }
 ],
 "metadata": {
  "kernelspec": {
   "display_name": "Python 3",
   "language": "python",
   "name": "python3"
  },
  "language_info": {
   "codemirror_mode": {
    "name": "ipython",
    "version": 3
   },
   "file_extension": ".py",
   "mimetype": "text/x-python",
   "name": "python",
   "nbconvert_exporter": "python",
   "pygments_lexer": "ipython3",
   "version": "3.6.5"
  }
 },
 "nbformat": 4,
 "nbformat_minor": 2
}
